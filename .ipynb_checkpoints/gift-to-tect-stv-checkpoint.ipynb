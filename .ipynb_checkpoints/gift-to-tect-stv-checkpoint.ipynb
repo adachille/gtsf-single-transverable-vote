{
 "cells": [
  {
   "cell_type": "markdown",
   "metadata": {},
   "source": [
    "## Gift To Tech: Single Transferable Vote\n",
    "\n",
    "This Python Notebook is for calculating the winning project for Gift to Tech under the Single Transferable Voting system. Begin by putting in our voting parameters."
   ]
  },
  {
   "cell_type": "code",
   "execution_count": 1,
   "metadata": {},
   "outputs": [],
   "source": [
    "import pandas as pd\n",
    "import matplotlib.pyplot as plt\n",
    "import math\n",
    "\n",
    "csv_filename = './sample.csv'\n",
    "num_winners = 3\n",
    "candidates = ['STAR (Students’ Temporary Assistance and Resources): Klemis Kitchen',\n",
    "              'Alternative Service Breaks',\n",
    "              'Collegiate Recovery Program',\n",
    "              'Center for Serve-Learn-Sustain',\n",
    "              'Center for the Study of Women Science and Technology'\n",
    "             ]\n",
    "num_votes = 3"
   ]
  },
  {
   "cell_type": "markdown",
   "metadata": {},
   "source": [
    "Let's now go ahead and read in the voting csv data. We will also clean up the data."
   ]
  },
  {
   "cell_type": "code",
   "execution_count": 2,
   "metadata": {},
   "outputs": [
    {
     "name": "stdout",
     "output_type": "stream",
     "text": [
      "  Gift to Tech Top 8 Voting Spring 2019 - GTT Top 7 19-20 - select project  \\\n",
      "0  STAR (Students’ Temporary Assistance and Resou...                         \n",
      "1                         Alternative Service Breaks                         \n",
      "2                        Collegiate Recovery Program                         \n",
      "3  STAR (Students’ Temporary Assistance and Resou...                         \n",
      "4                     Center for Serve-Learn-Sustain                         \n",
      "5                     Center for Serve-Learn-Sustain                         \n",
      "6                     Center for Serve-Learn-Sustain                         \n",
      "7  Center for the Study of Women Science and Tech...                         \n",
      "8                     Center for Serve-Learn-Sustain                         \n",
      "9                     Center for Serve-Learn-Sustain                         \n",
      "\n",
      "  Gift to Tech Top 7 Voting Spring 2019 - GTT Top 7 19-20 - second choice  \\\n",
      "0                                                nan                        \n",
      "1                                                nan                        \n",
      "2                                                nan                        \n",
      "3                                                nan                        \n",
      "4                                                nan                        \n",
      "5                                                nan                        \n",
      "6                                                nan                        \n",
      "7                                                nan                        \n",
      "8                     Center for Serve-Learn-Sustain                        \n",
      "9                     Center for Serve-Learn-Sustain                        \n",
      "\n",
      "  Gift to Tech Top 7 Voting Spring 2019 - GTT Top 7 19-20 - third choice  \n",
      "0                                                nan                      \n",
      "1                                                nan                      \n",
      "2                                                nan                      \n",
      "3                                                nan                      \n",
      "4                                                nan                      \n",
      "5                                                nan                      \n",
      "6                                                nan                      \n",
      "7                                                nan                      \n",
      "8                     Center for Serve-Learn-Sustain                      \n",
      "9  Center for the Study of Women Science and Tech...                      \n",
      "\n",
      "\n",
      "\n",
      "\n",
      "  Gift to Tech Top 8 Voting Spring 2019 - GTT Top 7 19-20 - select project  \\\n",
      "0  STAR (Students’ Temporary Assistance and Resou...                         \n",
      "1                         Alternative Service Breaks                         \n",
      "2                        Collegiate Recovery Program                         \n",
      "3  STAR (Students’ Temporary Assistance and Resou...                         \n",
      "4                     Center for Serve-Learn-Sustain                         \n",
      "5                     Center for Serve-Learn-Sustain                         \n",
      "6                     Center for Serve-Learn-Sustain                         \n",
      "7  Center for the Study of Women Science and Tech...                         \n",
      "8                     Center for Serve-Learn-Sustain                         \n",
      "9                     Center for Serve-Learn-Sustain                         \n",
      "\n",
      "  Gift to Tech Top 7 Voting Spring 2019 - GTT Top 7 19-20 - second choice  \\\n",
      "0  STAR (Students’ Temporary Assistance and Resou...                        \n",
      "1                         Alternative Service Breaks                        \n",
      "2                        Collegiate Recovery Program                        \n",
      "3  STAR (Students’ Temporary Assistance and Resou...                        \n",
      "4                     Center for Serve-Learn-Sustain                        \n",
      "5                     Center for Serve-Learn-Sustain                        \n",
      "6                     Center for Serve-Learn-Sustain                        \n",
      "7  Center for the Study of Women Science and Tech...                        \n",
      "8                     Center for Serve-Learn-Sustain                        \n",
      "9                     Center for Serve-Learn-Sustain                        \n",
      "\n",
      "  Gift to Tech Top 7 Voting Spring 2019 - GTT Top 7 19-20 - third choice  \n",
      "0  STAR (Students’ Temporary Assistance and Resou...                      \n",
      "1                         Alternative Service Breaks                      \n",
      "2                        Collegiate Recovery Program                      \n",
      "3  STAR (Students’ Temporary Assistance and Resou...                      \n",
      "4                     Center for Serve-Learn-Sustain                      \n",
      "5                     Center for Serve-Learn-Sustain                      \n",
      "6                     Center for Serve-Learn-Sustain                      \n",
      "7  Center for the Study of Women Science and Tech...                      \n",
      "8                     Center for Serve-Learn-Sustain                      \n",
      "9  Center for the Study of Women Science and Tech...                      \n",
      "\n",
      "\n",
      "\n",
      "\n"
     ]
    }
   ],
   "source": [
    "gtt_data = pd.read_csv(csv_filename).astype(str)\n",
    "print(gtt_data)\n",
    "print('\\n\\n\\n')\n",
    "\n",
    "# Go through each vote and make sure it is filled in. If the cell has 'nan' then it should be filled with\n",
    "# the value from the cell to the left\n",
    "for row in range(len(gtt_data.index)):\n",
    "    for col in range(1, num_votes):\n",
    "        # Replace the cell value if it has nothing in it\n",
    "        if gtt_data.iloc[row, col] == 'nan':\n",
    "            gtt_data.iloc[row, col] = gtt_data.iloc[row, col-1]\n",
    "print(gtt_data)\n",
    "print('\\n\\n\\n')"
   ]
  },
  {
   "cell_type": "markdown",
   "metadata": {},
   "source": [
    "### Simulate Election\n",
    "We will now cut down our number of canidates until there is only 'num_winners' left. Essentially, we are calculating the winners!"
   ]
  },
  {
   "cell_type": "code",
   "execution_count": 3,
   "metadata": {
    "scrolled": true
   },
   "outputs": [
    {
     "name": "stdout",
     "output_type": "stream",
     "text": [
      "Start of round number: 1\n",
      "Center for Serve-Learn-Sustain                                         5\n",
      "STAR (Students’ Temporary Assistance and Resources): Klemis Kitchen    2\n",
      "Collegiate Recovery Program                                            1\n",
      "Alternative Service Breaks                                             1\n",
      "Center for the Study of Women Science and Technology                   1\n",
      "Name: Gift to Tech Top 8 Voting Spring 2019 - GTT Top 7 19-20 - select project, dtype: int64\n",
      "\n",
      "End of round number: 1\n",
      "Center for Serve-Learn-Sustain                                         5\n",
      "STAR (Students’ Temporary Assistance and Resources): Klemis Kitchen    2\n",
      "Collegiate Recovery Program                                            1\n",
      "Empty Votes                                                            1\n",
      "Center for the Study of Women Science and Technology                   1\n",
      "Name: Gift to Tech Top 8 Voting Spring 2019 - GTT Top 7 19-20 - select project, dtype: int64\n",
      "\n",
      "\n",
      "\n",
      "\n",
      "Start of round number: 2\n",
      "Center for Serve-Learn-Sustain                                         5\n",
      "STAR (Students’ Temporary Assistance and Resources): Klemis Kitchen    2\n",
      "Collegiate Recovery Program                                            1\n",
      "Empty Votes                                                            1\n",
      "Center for the Study of Women Science and Technology                   1\n",
      "Name: Gift to Tech Top 8 Voting Spring 2019 - GTT Top 7 19-20 - select project, dtype: int64\n",
      "\n",
      "End of round number: 2\n",
      "Center for Serve-Learn-Sustain                                         5\n",
      "Empty Votes                                                            2\n",
      "STAR (Students’ Temporary Assistance and Resources): Klemis Kitchen    2\n",
      "Center for the Study of Women Science and Technology                   1\n",
      "Name: Gift to Tech Top 8 Voting Spring 2019 - GTT Top 7 19-20 - select project, dtype: int64\n",
      "\n",
      "\n",
      "\n",
      "\n"
     ]
    },
    {
     "data": {
      "image/png": "[encoded data removed]",
      "text/plain": [
       "<Figure size 432x288 with 1 Axes>"
      ]
     },
     "metadata": {
      "needs_background": "light"
     },
     "output_type": "display_data"
    }
   ],
   "source": [
    "# Cut down number of winners to inputted amount\n",
    "round_number = 1\n",
    "for candidates_to_remove in range(len(candidates)-num_winners, 0, -1):\n",
    "    print('Start of round number: ' + str(round_number))\n",
    "    # Let's visualize the remaining candidates\n",
    "    first_choices = gtt_data.iloc[:, 0]\n",
    "    print(first_choices.value_counts())\n",
    "    print('')\n",
    "    \n",
    "    # Calculate result of voteing round\n",
    "    results = {}\n",
    "    for choice in first_choices:\n",
    "        if choice in results:\n",
    "            results[choice] += 1\n",
    "        else:\n",
    "            results[choice] = 1\n",
    "    # Select losing candidate\n",
    "    least_popular_candidate = None\n",
    "    min_votes = None\n",
    "    for candidate, candidate_votes in results.items():\n",
    "        # Just needed to prevent empty votes from being considered\n",
    "        if candidate == 'Empty Votes': continue\n",
    "        \n",
    "        if min_votes is None:\n",
    "            min_votes = candidate_votes\n",
    "            least_popular_candidate = candidate\n",
    "        if candidate_votes < min_votes:\n",
    "            min_votes = candidate_votes\n",
    "            least_popular_candidate = candidate\n",
    "            \n",
    "    \n",
    "    # Delete least popular candidate choice\n",
    "    for row in range(len(gtt_data.index)):\n",
    "        for col in range(num_votes - 1, -1, -1):\n",
    "            if gtt_data.iloc[row, col] == least_popular_candidate:\n",
    "                gtt_data.iloc[row, col] = 'Empty Votes'\n",
    "    # \"Shift\" choices over\n",
    "    for row in range(len(gtt_data.index)):\n",
    "        for col in range(num_votes - 1, -1, -1):\n",
    "            if gtt_data.iloc[row, col] == 'Empty Votes':\n",
    "                if col != num_votes - 1:\n",
    "                    gtt_data.iloc[row, col] = gtt_data.iloc[row, col + 1] \n",
    "\n",
    "    # Remove them from the list of candidates\n",
    "    print('End of round number: ' + str(round_number))\n",
    "    print(first_choices.value_counts())\n",
    "    print('\\n\\n\\n')\n",
    "    round_number += 1\n",
    "    \n",
    "# Plot new candidate counts\n",
    "first_choices.value_counts().plot('bar')\n"
   ]
  },
  {
   "cell_type": "markdown",
   "metadata": {},
   "source": [
    "## The Winner\n",
    "And the winner is ^^^^^^"
   ]
  },
  {
   "cell_type": "code",
   "execution_count": null,
   "metadata": {},
   "outputs": [],
   "source": []
  }
 ],
 "metadata": {
  "kernelspec": {
   "display_name": "Python 3",
   "language": "python",
   "name": "python3"
  },
  "language_info": {
   "codemirror_mode": {
    "name": "ipython",
    "version": 3
   },
   "file_extension": ".py",
   "mimetype": "text/x-python",
   "name": "python",
   "nbconvert_exporter": "python",
   "pygments_lexer": "ipython3",
   "version": "3.7.0"
  }
 },
 "nbformat": 4,
 "nbformat_minor": 2
}
